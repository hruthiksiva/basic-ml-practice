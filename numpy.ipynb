{
  "nbformat": 4,
  "nbformat_minor": 0,
  "metadata": {
    "colab": {
      "provenance": [],
      "authorship_tag": "ABX9TyNzCLJZvlSRG6uCdilBj1KZ",
      "include_colab_link": true
    },
    "kernelspec": {
      "name": "python3",
      "display_name": "Python 3"
    },
    "language_info": {
      "name": "python"
    }
  },
  "cells": [
    {
      "cell_type": "markdown",
      "metadata": {
        "id": "view-in-github",
        "colab_type": "text"
      },
      "source": [
        "<a href=\"https://colab.research.google.com/github/hruthiksiva/basic-ml-practice/blob/main/numpy.ipynb\" target=\"_parent\"><img src=\"https://colab.research.google.com/assets/colab-badge.svg\" alt=\"Open In Colab\"/></a>"
      ]
    },
    {
      "cell_type": "markdown",
      "source": [
        "# Importing"
      ],
      "metadata": {
        "id": "Jt7NbZRF_s51"
      }
    },
    {
      "cell_type": "code",
      "execution_count": 2,
      "metadata": {
        "id": "1TP1oDsC-vWs"
      },
      "outputs": [],
      "source": [
        "import numpy as np"
      ]
    },
    {
      "cell_type": "markdown",
      "source": [
        "# Numpy Arrays"
      ],
      "metadata": {
        "id": "ylZ2cf10qNgM"
      }
    },
    {
      "cell_type": "markdown",
      "source": [
        "## Creating numpy arrays"
      ],
      "metadata": {
        "id": "67YtdlHSprP5"
      }
    },
    {
      "cell_type": "code",
      "source": [
        "arr1 = np.array([1,2,3,4])\n",
        "\n",
        "arr2 = np.array([\n",
        "    [1,2,3,4],\n",
        "    [2,3,4,5]\n",
        "]\n",
        "\n",
        ")\n",
        "arr2"
      ],
      "metadata": {
        "id": "pNDA1nb9_vyN",
        "colab": {
          "base_uri": "https://localhost:8080/"
        },
        "outputId": "6058d94c-3e43-4ebe-99b6-eb9ee72ff100"
      },
      "execution_count": 3,
      "outputs": [
        {
          "output_type": "execute_result",
          "data": {
            "text/plain": [
              "array([[1, 2, 3, 4],\n",
              "       [2, 3, 4, 5]])"
            ]
          },
          "metadata": {},
          "execution_count": 3
        }
      ]
    },
    {
      "cell_type": "code",
      "source": [
        "zeros = np.zeros((2,3))\n",
        "zeros"
      ],
      "metadata": {
        "colab": {
          "base_uri": "https://localhost:8080/"
        },
        "id": "kxpIabLRp4MT",
        "outputId": "a633eacb-81ef-4bf9-e2ab-b82685661326"
      },
      "execution_count": 4,
      "outputs": [
        {
          "output_type": "execute_result",
          "data": {
            "text/plain": [
              "array([[0., 0., 0.],\n",
              "       [0., 0., 0.]])"
            ]
          },
          "metadata": {},
          "execution_count": 4
        }
      ]
    },
    {
      "cell_type": "code",
      "source": [
        "ones = np.ones((3,3))\n",
        "ones"
      ],
      "metadata": {
        "colab": {
          "base_uri": "https://localhost:8080/"
        },
        "id": "diL3eTq3qA7w",
        "outputId": "5bf0b4f0-1254-4fbb-b7c9-ba694505a6eb"
      },
      "execution_count": 5,
      "outputs": [
        {
          "output_type": "execute_result",
          "data": {
            "text/plain": [
              "array([[1., 1., 1.],\n",
              "       [1., 1., 1.],\n",
              "       [1., 1., 1.]])"
            ]
          },
          "metadata": {},
          "execution_count": 5
        }
      ]
    },
    {
      "cell_type": "code",
      "source": [
        "range_arr = np.arange(0,10,2) # start stop step\n",
        "range_arr"
      ],
      "metadata": {
        "colab": {
          "base_uri": "https://localhost:8080/"
        },
        "id": "6nmbpupBqESZ",
        "outputId": "57f2e3ff-03a9-4388-bd7b-f394dc633881"
      },
      "execution_count": 7,
      "outputs": [
        {
          "output_type": "execute_result",
          "data": {
            "text/plain": [
              "array([0, 2, 4, 6, 8])"
            ]
          },
          "metadata": {},
          "execution_count": 7
        }
      ]
    },
    {
      "cell_type": "code",
      "source": [
        "linspace = np.linspace(0,5,5)\n",
        "linspace"
      ],
      "metadata": {
        "colab": {
          "base_uri": "https://localhost:8080/"
        },
        "id": "KgomvNGcqX0r",
        "outputId": "788876db-1ab3-4a87-f5f7-09af9a16de66"
      },
      "execution_count": 9,
      "outputs": [
        {
          "output_type": "execute_result",
          "data": {
            "text/plain": [
              "array([0.  , 1.25, 2.5 , 3.75, 5.  ])"
            ]
          },
          "metadata": {},
          "execution_count": 9
        }
      ]
    },
    {
      "cell_type": "markdown",
      "source": [
        "## Array Properties"
      ],
      "metadata": {
        "id": "S4Nt3HxNqi4E"
      }
    },
    {
      "cell_type": "code",
      "source": [
        "arr = np.array(\n",
        "    [\n",
        "        [1,2,3,4],\n",
        "        [5,6,7,8]\n",
        "    ]\n",
        ")\n",
        "print(arr.shape)\n",
        "print(arr.size)\n",
        "print(arr.dtype)"
      ],
      "metadata": {
        "colab": {
          "base_uri": "https://localhost:8080/"
        },
        "id": "7EX3zzYaqfTS",
        "outputId": "76503f1f-71fc-41c0-a991-70b92a13d3a9"
      },
      "execution_count": 12,
      "outputs": [
        {
          "output_type": "stream",
          "name": "stdout",
          "text": [
            "(2, 4)\n",
            "8\n",
            "int64\n"
          ]
        }
      ]
    },
    {
      "cell_type": "markdown",
      "source": [
        "## Reshaping and Flattern"
      ],
      "metadata": {
        "id": "2OVfWJIZrYPo"
      }
    },
    {
      "cell_type": "code",
      "source": [
        "reshaped = arr.reshape(8,1)\n",
        "print(reshaped)"
      ],
      "metadata": {
        "colab": {
          "base_uri": "https://localhost:8080/"
        },
        "id": "GC9V7H3brbHH",
        "outputId": "5278c808-8dde-4083-9d57-c4327b26df17"
      },
      "execution_count": 19,
      "outputs": [
        {
          "output_type": "stream",
          "name": "stdout",
          "text": [
            "[[1]\n",
            " [2]\n",
            " [3]\n",
            " [4]\n",
            " [5]\n",
            " [6]\n",
            " [7]\n",
            " [8]]\n"
          ]
        }
      ]
    },
    {
      "cell_type": "code",
      "source": [
        "flattened = arr.flatten()\n",
        "print(flattened)"
      ],
      "metadata": {
        "colab": {
          "base_uri": "https://localhost:8080/"
        },
        "id": "7whT8oRRrikE",
        "outputId": "35712ba9-2341-4a5b-ae70-b70a2ec08eeb"
      },
      "execution_count": 16,
      "outputs": [
        {
          "output_type": "stream",
          "name": "stdout",
          "text": [
            "[1 2 3 4 5 6 7 8]\n"
          ]
        }
      ]
    },
    {
      "cell_type": "markdown",
      "source": [
        "# Indexing and Slicing"
      ],
      "metadata": {
        "id": "32c4OunlsQnn"
      }
    },
    {
      "cell_type": "code",
      "source": [
        "# accessing specific elements\n",
        "print(arr[1][2])"
      ],
      "metadata": {
        "colab": {
          "base_uri": "https://localhost:8080/"
        },
        "id": "eqyRJKMurvIZ",
        "outputId": "7ff4906a-edba-4203-a18e-80e0d5ed133b"
      },
      "execution_count": 20,
      "outputs": [
        {
          "output_type": "stream",
          "name": "stdout",
          "text": [
            "7\n"
          ]
        }
      ]
    },
    {
      "cell_type": "code",
      "source": [
        "# slicing\n",
        "print(arr[:,1])\n",
        "print(arr[1,:])"
      ],
      "metadata": {
        "colab": {
          "base_uri": "https://localhost:8080/"
        },
        "id": "G23Yc8cfsuqD",
        "outputId": "99ad05bc-5391-419a-ee97-1d1559ae0ddf"
      },
      "execution_count": 22,
      "outputs": [
        {
          "output_type": "stream",
          "name": "stdout",
          "text": [
            "[2 6]\n",
            "[5 6 7 8]\n"
          ]
        }
      ]
    },
    {
      "cell_type": "markdown",
      "source": [
        "# Array Operations"
      ],
      "metadata": {
        "id": "-8u1CA9Ss9r8"
      }
    },
    {
      "cell_type": "markdown",
      "source": [
        "## Arithmetic"
      ],
      "metadata": {
        "id": "1URYV1hfs_5J"
      }
    },
    {
      "cell_type": "code",
      "source": [
        "a = np.array([1,2,3])\n",
        "b = np.array([4,5,6])\n",
        "\n",
        "print(a+b)\n",
        "print(a-b)\n",
        "print(a*b)\n",
        "print(a/b)"
      ],
      "metadata": {
        "colab": {
          "base_uri": "https://localhost:8080/"
        },
        "id": "rJYKJ5X3s0S3",
        "outputId": "e6216754-3c19-4042-eeec-8c8f9a912c6e"
      },
      "execution_count": 24,
      "outputs": [
        {
          "output_type": "stream",
          "name": "stdout",
          "text": [
            "[5 7 9]\n",
            "[-3 -3 -3]\n",
            "[ 4 10 18]\n",
            "[0.25 0.4  0.5 ]\n"
          ]
        }
      ]
    },
    {
      "cell_type": "markdown",
      "source": [
        "## Universal Functions"
      ],
      "metadata": {
        "id": "pfP8YrgzwRfj"
      }
    },
    {
      "cell_type": "code",
      "source": [
        "print(np.sqrt(b))\n",
        "print(np.exp(b))"
      ],
      "metadata": {
        "colab": {
          "base_uri": "https://localhost:8080/"
        },
        "id": "B21d8VxewJ8j",
        "outputId": "06cbb207-1d16-4e11-f2cc-419eca48f8dd"
      },
      "execution_count": 25,
      "outputs": [
        {
          "output_type": "stream",
          "name": "stdout",
          "text": [
            "[2.         2.23606798 2.44948974]\n",
            "[ 54.59815003 148.4131591  403.42879349]\n"
          ]
        }
      ]
    },
    {
      "cell_type": "markdown",
      "source": [
        "## Broadcasting"
      ],
      "metadata": {
        "id": "ZZ1dJ3LWwhnx"
      }
    },
    {
      "cell_type": "code",
      "source": [
        "c = 3\n",
        "print(a*c)"
      ],
      "metadata": {
        "colab": {
          "base_uri": "https://localhost:8080/"
        },
        "id": "A_6K8p3fwdGe",
        "outputId": "e0ed7fd0-4958-4a9a-f9ac-9d2e43b16989"
      },
      "execution_count": 26,
      "outputs": [
        {
          "output_type": "stream",
          "name": "stdout",
          "text": [
            "[3 6 9]\n"
          ]
        }
      ]
    },
    {
      "cell_type": "markdown",
      "source": [
        "## Stastical Function"
      ],
      "metadata": {
        "id": "7TbZ9Nowwoxk"
      }
    },
    {
      "cell_type": "code",
      "source": [
        "print(np.mean(a))\n",
        "print(np.std(a))\n",
        "print(np.sum(a))\n",
        "print(np.min(a))\n",
        "print(np.max(a))\n"
      ],
      "metadata": {
        "colab": {
          "base_uri": "https://localhost:8080/"
        },
        "id": "hWnSOtwmwlsD",
        "outputId": "5c4287b4-1587-4e68-ece2-b15a8c2fff50"
      },
      "execution_count": 28,
      "outputs": [
        {
          "output_type": "stream",
          "name": "stdout",
          "text": [
            "2.0\n",
            "0.816496580927726\n",
            "6\n",
            "1\n",
            "3\n"
          ]
        }
      ]
    },
    {
      "cell_type": "markdown",
      "source": [
        "# Random"
      ],
      "metadata": {
        "id": "_5QXXYeCxUDv"
      }
    },
    {
      "cell_type": "code",
      "source": [
        "rand_float = np.random.rand(5)\n",
        "print(rand_float)"
      ],
      "metadata": {
        "colab": {
          "base_uri": "https://localhost:8080/"
        },
        "id": "aK1IaJZexANd",
        "outputId": "a42fe226-630e-4266-907a-f4634c7be33d"
      },
      "execution_count": 31,
      "outputs": [
        {
          "output_type": "stream",
          "name": "stdout",
          "text": [
            "[0.87149753 0.46059312 0.90267925 0.5403108  0.048978  ]\n"
          ]
        }
      ]
    },
    {
      "cell_type": "code",
      "source": [
        "rand_int = np.random.randint(0,10,(3,3))\n",
        "print(rand_int)"
      ],
      "metadata": {
        "colab": {
          "base_uri": "https://localhost:8080/"
        },
        "id": "SkmHp9quxZQc",
        "outputId": "d4cf8421-b8be-4d6e-9d8b-f2b5931795ce"
      },
      "execution_count": 33,
      "outputs": [
        {
          "output_type": "stream",
          "name": "stdout",
          "text": [
            "[[1 1 7]\n",
            " [3 2 4]\n",
            " [5 4 4]]\n"
          ]
        }
      ]
    },
    {
      "cell_type": "markdown",
      "source": [
        "# Linear Algebra"
      ],
      "metadata": {
        "id": "514YVQJKxod7"
      }
    },
    {
      "cell_type": "code",
      "source": [
        "# Matrix Multiplication\n",
        "a = np.array([[1, 2], [3, 4]])\n",
        "b = np.array([[5, 6], [7, 8]])\n",
        "\n",
        "result = np.dot(a, b)\n",
        "print(result)"
      ],
      "metadata": {
        "colab": {
          "base_uri": "https://localhost:8080/"
        },
        "id": "lEI1TygXxkDv",
        "outputId": "1a08dd2a-d4ba-47bb-da91-e702308577df"
      },
      "execution_count": 34,
      "outputs": [
        {
          "output_type": "stream",
          "name": "stdout",
          "text": [
            "[[19 22]\n",
            " [43 50]]\n"
          ]
        }
      ]
    },
    {
      "cell_type": "code",
      "source": [
        "# Matrix Multiplication\n",
        "a = np.array([[1, 2], [3, 4]])\n",
        "b = np.array([[5, 6], [7, 8]])\n",
        "\n",
        "result = np.cross(a, b)\n",
        "print(result)"
      ],
      "metadata": {
        "colab": {
          "base_uri": "https://localhost:8080/"
        },
        "id": "4_5X45-Cxy6-",
        "outputId": "71c482cd-d24e-465b-bce3-78c1b2953cb3"
      },
      "execution_count": 36,
      "outputs": [
        {
          "output_type": "stream",
          "name": "stdout",
          "text": [
            "[-4 -4]\n"
          ]
        }
      ]
    },
    {
      "cell_type": "code",
      "source": [
        "print(a.T)"
      ],
      "metadata": {
        "colab": {
          "base_uri": "https://localhost:8080/"
        },
        "id": "TnMQm0XHxvjr",
        "outputId": "56a5c050-d08e-48da-9af5-9cd1b5f1bc04"
      },
      "execution_count": 35,
      "outputs": [
        {
          "output_type": "stream",
          "name": "stdout",
          "text": [
            "[[1 3]\n",
            " [2 4]]\n"
          ]
        }
      ]
    },
    {
      "cell_type": "markdown",
      "source": [
        "# Example Scenario"
      ],
      "metadata": {
        "id": "YseyKAVKyGMC"
      }
    },
    {
      "cell_type": "code",
      "source": [
        "sensor_data = np.array([23.5, 24.8, 22.9, 23.1, 24.2])\n",
        "average = np.mean(sensor_data)\n",
        "print(f\"Average sensor reading: {average}\")"
      ],
      "metadata": {
        "colab": {
          "base_uri": "https://localhost:8080/"
        },
        "id": "98B2kuajyIFj",
        "outputId": "cd5e9f7a-1543-4bd3-8b42-207825ff840e"
      },
      "execution_count": 37,
      "outputs": [
        {
          "output_type": "stream",
          "name": "stdout",
          "text": [
            "Average sensor reading: 23.699999999999996\n"
          ]
        }
      ]
    },
    {
      "cell_type": "code",
      "source": [
        "image = np.array([[100, 150], [200, 250]])  # Grayscale values\n",
        "brightened = image + 50  # Increase brightness\n",
        "print(brightened)\n"
      ],
      "metadata": {
        "colab": {
          "base_uri": "https://localhost:8080/"
        },
        "id": "mTEmbGC_yKMs",
        "outputId": "7f466a12-691f-4f2f-d30f-300c49aab9f6"
      },
      "execution_count": 38,
      "outputs": [
        {
          "output_type": "stream",
          "name": "stdout",
          "text": [
            "[[150 200]\n",
            " [250 300]]\n"
          ]
        }
      ]
    },
    {
      "cell_type": "code",
      "source": [
        "prices = np.array([100, 102, 105, 107])\n",
        "returns = np.diff(prices) / prices[:-1] * 100\n",
        "print(f\"Daily returns (%): {returns}\")\n"
      ],
      "metadata": {
        "colab": {
          "base_uri": "https://localhost:8080/"
        },
        "id": "N6PE0PFryNSD",
        "outputId": "5578eae4-4f6e-42dd-b670-e30025bb7b7b"
      },
      "execution_count": 39,
      "outputs": [
        {
          "output_type": "stream",
          "name": "stdout",
          "text": [
            "Daily returns (%): [2.         2.94117647 1.9047619 ]\n"
          ]
        }
      ]
    },
    {
      "cell_type": "code",
      "source": [
        "data = np.array([[10, 200], [20, 300], [15, 250]])\n",
        "mean = np.mean(data, axis=0)\n",
        "std_dev = np.std(data, axis=0)\n",
        "\n",
        "standardized = (data - mean) / std_dev\n",
        "print(standardized)\n"
      ],
      "metadata": {
        "colab": {
          "base_uri": "https://localhost:8080/"
        },
        "id": "7XBQhTO45was",
        "outputId": "51457923-8fc9-4df4-968d-69485647f767"
      },
      "execution_count": 40,
      "outputs": [
        {
          "output_type": "stream",
          "name": "stdout",
          "text": [
            "[[-1.22474487 -1.22474487]\n",
            " [ 1.22474487  1.22474487]\n",
            " [ 0.          0.        ]]\n"
          ]
        }
      ]
    },
    {
      "cell_type": "code",
      "source": [
        "A = np.array([[3, 1], [1, 2]])\n",
        "B = np.array([9, 8])\n",
        "\n",
        "x = np.linalg.solve(A, B)\n",
        "print(x)\n"
      ],
      "metadata": {
        "colab": {
          "base_uri": "https://localhost:8080/"
        },
        "id": "6_tmQOxZ50cD",
        "outputId": "17a30a27-83d6-46f7-9733-9c19e4e5e3c4"
      },
      "execution_count": 41,
      "outputs": [
        {
          "output_type": "stream",
          "name": "stdout",
          "text": [
            "[2. 3.]\n"
          ]
        }
      ]
    },
    {
      "cell_type": "code",
      "source": [],
      "metadata": {
        "id": "Fy-YVFs_52_k"
      },
      "execution_count": null,
      "outputs": []
    }
  ]
}