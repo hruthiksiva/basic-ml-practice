{
  "nbformat": 4,
  "nbformat_minor": 0,
  "metadata": {
    "colab": {
      "provenance": [],
      "authorship_tag": "ABX9TyOe8+MNswhcFfvRLe6/GZuA",
      "include_colab_link": true
    },
    "kernelspec": {
      "name": "python3",
      "display_name": "Python 3"
    },
    "language_info": {
      "name": "python"
    }
  },
  "cells": [
    {
      "cell_type": "markdown",
      "metadata": {
        "id": "view-in-github",
        "colab_type": "text"
      },
      "source": [
        "<a href=\"https://colab.research.google.com/github/hruthiksiva/basic-ml-practice/blob/main/sklearn_beginners.ipynb\" target=\"_parent\"><img src=\"https://colab.research.google.com/assets/colab-badge.svg\" alt=\"Open In Colab\"/></a>"
      ]
    },
    {
      "cell_type": "code",
      "source": [
        "from sklearn.model_selection import train_test_split\n",
        "train_data, test_data = train_test_split(df, test_size=0.2, random_state=42)\n"
      ],
      "metadata": {
        "id": "lIZ9ORI0hFwK"
      },
      "execution_count": null,
      "outputs": []
    },
    {
      "cell_type": "code",
      "execution_count": 2,
      "metadata": {
        "id": "pESsuy7nVxuk"
      },
      "outputs": [],
      "source": [
        "from sklearn.metrics.pairwise import cosine_similarity\n",
        "from sklearn.metrics import accuracy_score, precision_score, recall_score, f1_score\n",
        "\n",
        "# feature_vectors = df[list(all_genres)]"
      ]
    },
    {
      "cell_type": "code",
      "source": [
        "from sklearn.feature_extraction.text import CountVectorizer\n",
        "\n",
        "cv = CountVectorizer(max_features=10000, stop_words='english')\n",
        "count_matrix = cv.fit_transform(df[\"comb\"])"
      ],
      "metadata": {
        "id": "U6TeP5x0WAtT"
      },
      "execution_count": null,
      "outputs": []
    },
    {
      "cell_type": "code",
      "source": [
        "from sklearn.linear_model import Ridge, Lasso\n",
        "from sklearn.linear_model import LinearRegression"
      ],
      "metadata": {
        "id": "DgCzw0Mb6E3I"
      },
      "execution_count": null,
      "outputs": []
    },
    {
      "cell_type": "code",
      "source": [
        "from sklearn.datasets import make_classification"
      ],
      "metadata": {
        "id": "AOdd5a7o1jbW"
      },
      "execution_count": null,
      "outputs": []
    },
    {
      "cell_type": "code",
      "source": [
        "from sklearn.tree import DecisionTreeClassifier  # For classification\n",
        "from sklearn.tree import DecisionTreeRegressor   # For regression"
      ],
      "metadata": {
        "id": "7fiogRbW9K7I"
      },
      "execution_count": null,
      "outputs": []
    },
    {
      "cell_type": "code",
      "source": [
        "from sklearn.naive_bayes import GaussianNB       # Gaussian Naive Bayes\n",
        "from sklearn.naive_bayes import MultinomialNB    # Multinomial Naive Bayes"
      ],
      "metadata": {
        "id": "RUrEDSMN9Lb6"
      },
      "execution_count": null,
      "outputs": []
    },
    {
      "cell_type": "code",
      "source": [
        "from sklearn.neighbors import KNeighborsClassifier  # For classification\n",
        "from sklearn.neighbors import KNeighborsRegressor   # For regression\n"
      ],
      "metadata": {
        "id": "14rgbgRn9Pk_"
      },
      "execution_count": null,
      "outputs": []
    },
    {
      "cell_type": "code",
      "source": [
        "from sklearn.svm import SVC                # For classification\n",
        "from sklearn.svm import SVR                # For regression\n"
      ],
      "metadata": {
        "id": "c4Lln-iB9RVU"
      },
      "execution_count": null,
      "outputs": []
    },
    {
      "cell_type": "code",
      "source": [
        "from sklearn.ensemble import RandomForestClassifier  # For classification\n",
        "from sklearn.ensemble import RandomForestRegressor   # For regression\n"
      ],
      "metadata": {
        "id": "578qVADq9R5y"
      },
      "execution_count": null,
      "outputs": []
    },
    {
      "cell_type": "code",
      "source": [
        "from sklearn.ensemble import GradientBoostingClassifier  # For classification\n",
        "from sklearn.ensemble import GradientBoostingRegressor   # For regression\n"
      ],
      "metadata": {
        "id": "T8FUuksm9UYw"
      },
      "execution_count": null,
      "outputs": []
    },
    {
      "cell_type": "code",
      "source": [
        "from sklearn.cluster import KMeans\n",
        "from sklearn.cluster import AgglomerativeClustering\n"
      ],
      "metadata": {
        "id": "JugFi-ZW9Wp_"
      },
      "execution_count": null,
      "outputs": []
    },
    {
      "cell_type": "code",
      "source": [
        "from sklearn.decomposition import PCA\n"
      ],
      "metadata": {
        "id": "lgtfDsJk9aJN"
      },
      "execution_count": null,
      "outputs": []
    },
    {
      "cell_type": "code",
      "source": [
        "from sklearn.cluster import DBSCAN                 # Density-Based Spatial Clustering\n",
        "from sklearn.ensemble import IsolationForest       # Isolation Forest\n"
      ],
      "metadata": {
        "id": "gxHtOKcL9d1i"
      },
      "execution_count": null,
      "outputs": []
    },
    {
      "cell_type": "code",
      "source": [
        "from sklearn.semi_supervised import LabelPropagation\n"
      ],
      "metadata": {
        "id": "Uji30dZu9g55"
      },
      "execution_count": null,
      "outputs": []
    },
    {
      "cell_type": "code",
      "source": [
        "from os import listdir\n",
        "import sklearn\n",
        "print(dir(sklearn))"
      ],
      "metadata": {
        "colab": {
          "base_uri": "https://localhost:8080/"
        },
        "id": "xk2RhSgS-ZU1",
        "outputId": "f4125ad5-0de1-4040-bb75-2edea8ccd882"
      },
      "execution_count": 5,
      "outputs": [
        {
          "output_type": "stream",
          "name": "stdout",
          "text": [
            "['_BUILT_WITH_MESON', '__SKLEARN_SETUP__', '__all__', '__builtins__', '__cached__', '__check_build', '__doc__', '__file__', '__loader__', '__name__', '__package__', '__path__', '__spec__', '__version__', '_built_with_meson', '_config', '_distributor_init', 'base', 'clone', 'config_context', 'exceptions', 'externals', 'get_config', 'logger', 'logging', 'metrics', 'os', 'preprocessing', 'random', 'set_config', 'setup_module', 'show_versions', 'sklearn', 'sys', 'utils']\n"
          ]
        }
      ]
    },
    {
      "cell_type": "code",
      "source": [],
      "metadata": {
        "id": "dCjYva2g-clG"
      },
      "execution_count": null,
      "outputs": []
    }
  ]
}